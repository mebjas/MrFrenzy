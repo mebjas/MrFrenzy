{
 "cells": [
  {
   "cell_type": "code",
   "execution_count": 2,
   "metadata": {
    "collapsed": true
   },
   "outputs": [],
   "source": [
    "import sys\n",
    "import time\n",
    "\n",
    "import numpy as np\n",
    "import pandas as pd\n",
    "import seaborn as sns\n",
    "import matplotlib.pyplot as plt\n",
    "\n",
    "%matplotlib inline"
   ]
  },
  {
   "cell_type": "code",
   "execution_count": 64,
   "metadata": {
    "collapsed": true
   },
   "outputs": [],
   "source": [
    "sys.path.append(\"../../\")\n",
    "sys.path.append(\"../../Core\")"
   ]
  },
  {
   "cell_type": "code",
   "execution_count": 65,
   "metadata": {
    "collapsed": true
   },
   "outputs": [],
   "source": [
    "from Core import Deduplication, Variables, Tokenizer, Generator, FastClustering"
   ]
  },
  {
   "cell_type": "markdown",
   "metadata": {},
   "source": [
    "## Windows dataset"
   ]
  },
  {
   "cell_type": "code",
   "execution_count": 99,
   "metadata": {},
   "outputs": [],
   "source": [
    "def loadDataset(filepath):\n",
    "    logs = None\n",
    "    with open(filepath, \"r\") as ifp:\n",
    "        logs = list(ifp)\n",
    "    \n",
    "    for i, l in enumerate(logs):\n",
    "        logs[i] = l.replace('\\n', '')\n",
    "\n",
    "    return logs"
   ]
  },
  {
   "cell_type": "code",
   "execution_count": 122,
   "metadata": {},
   "outputs": [
    {
     "data": {
      "text/plain": [
       "['2016-09-28 04:30:30, Info                  CBS    Loaded Servicing Stack v6.1.7601.23505 with Core: C:\\\\Windows\\\\winsxs\\\\amd64_microsoft-windows-servicingstack_31bf3856ad364e35_6.1.7601.23505_none_681aa442f6fed7f0\\\\cbscore.dll',\n",
       " '2016-09-28 04:30:31, Info                  CSI    00000001@2016/9/27:20:30:31.455 WcpInitialize (wcp.dll version 0.0.0.6) called (stack @0x7fed806eb5d @0x7fef9fb9b6d @0x7fef9f8358f @0xff83e97c @0xff83d799 @0xff83db2f)',\n",
       " '2016-09-28 04:30:31, Info                  CSI    00000002@2016/9/27:20:30:31.458 WcpInitialize (wcp.dll version 0.0.0.6) called (stack @0x7fed806eb5d @0x7fefa006ade @0x7fef9fd2984 @0x7fef9f83665 @0xff83e97c @0xff83d799)',\n",
       " '2016-09-28 04:30:31, Info                  CSI    00000003@2016/9/27:20:30:31.458 WcpInitialize (wcp.dll version 0.0.0.6) called (stack @0x7fed806eb5d @0x7fefa1c8728 @0x7fefa1c8856 @0xff83e474 @0xff83d7de @0xff83db2f)',\n",
       " '2016-09-28 04:30:31, Info                  CBS    Ending TrustedInstaller initialization.',\n",
       " '2016-09-28 04:30:31, Info                  CBS    Starting the TrustedInstaller main loop.',\n",
       " '2016-09-28 04:30:31, Info                  CBS    TrustedInstaller service starts successfully.',\n",
       " '2016-09-28 04:30:31, Info                  CBS    SQM: Initializing online with Windows opt-in: False',\n",
       " '2016-09-28 04:30:31, Info                  CBS    SQM: Cleaning up report files older than 10 days.',\n",
       " '2016-09-28 04:30:31, Info                  CBS    SQM: Requesting upload of all unsent reports.']"
      ]
     },
     "execution_count": 122,
     "metadata": {},
     "output_type": "execute_result"
    }
   ],
   "source": [
    "logs = loadDataset(\"../datasets/Windows/Windows_2k.log\")\n",
    "logs[:10]"
   ]
  },
  {
   "cell_type": "markdown",
   "metadata": {},
   "source": [
    "## Detecting patterns"
   ]
  },
  {
   "cell_type": "markdown",
   "metadata": {},
   "source": [
    "### Deduplication"
   ]
  },
  {
   "cell_type": "code",
   "execution_count": 123,
   "metadata": {},
   "outputs": [
    {
     "name": "stdout",
     "output_type": "stream",
     "text": [
      "No of titles before dedup: 2000\n",
      "No of titles after dedup: 1281\n"
     ]
    }
   ],
   "source": [
    "print (\"No of titles before dedup: %d\" % len(logs))\n",
    "dedup = Deduplication()\n",
    "logs = dedup.transform(logs)\n",
    "print (\"No of titles after dedup: %d\" % len(logs))"
   ]
  },
  {
   "cell_type": "code",
   "execution_count": 124,
   "metadata": {
    "collapsed": true
   },
   "outputs": [],
   "source": [
    "df = pd.DataFrame(logs, columns=[\"logs\"])"
   ]
  },
  {
   "cell_type": "markdown",
   "metadata": {},
   "source": [
    "## Pre tokenization transformation\n",
    "\n",
    "1. Replace `,` with `<space>,`"
   ]
  },
  {
   "cell_type": "code",
   "execution_count": 125,
   "metadata": {
    "collapsed": true
   },
   "outputs": [],
   "source": [
    "# TODO: use regular expressions\n",
    "for i, t in enumerate(logs):\n",
    "    t = t.replace(',', ' ,')\n",
    "    t = t.replace('[', '[ ')\n",
    "    t = t.replace(']', ' ]')\n",
    "    t = t.replace('{', '{ ')\n",
    "    t = t.replace('}', ' }')\n",
    "    t = t.replace('(', '( ')\n",
    "    t = t.replace(')', ' )')\n",
    "    t = t.replace('<', '< ')\n",
    "    t = t.replace('>', '> ')\n",
    "    \n",
    "    logs[i] = t"
   ]
  },
  {
   "cell_type": "code",
   "execution_count": 126,
   "metadata": {},
   "outputs": [
    {
     "data": {
      "text/plain": [
       "['2016-09-28 04:30:30 , Info                  CBS    Loaded Servicing Stack v6.1.7601.23505 with Core: C:\\\\Windows\\\\winsxs\\\\amd64_microsoft-windows-servicingstack_31bf3856ad364e35_6.1.7601.23505_none_681aa442f6fed7f0\\\\cbscore.dll',\n",
       " '2016-09-28 04:30:31 , Info                  CSI    00000001@2016/9/27:20:30:31.455 WcpInitialize ( wcp.dll version 0.0.0.6 ) called ( stack @0x7fed806eb5d @0x7fef9fb9b6d @0x7fef9f8358f @0xff83e97c @0xff83d799 @0xff83db2f )',\n",
       " '2016-09-28 04:30:31 , Info                  CSI    00000002@2016/9/27:20:30:31.458 WcpInitialize ( wcp.dll version 0.0.0.6 ) called ( stack @0x7fed806eb5d @0x7fefa006ade @0x7fef9fd2984 @0x7fef9f83665 @0xff83e97c @0xff83d799 )',\n",
       " '2016-09-28 04:30:31 , Info                  CSI    00000003@2016/9/27:20:30:31.458 WcpInitialize ( wcp.dll version 0.0.0.6 ) called ( stack @0x7fed806eb5d @0x7fefa1c8728 @0x7fefa1c8856 @0xff83e474 @0xff83d7de @0xff83db2f )',\n",
       " '2016-09-28 04:30:31 , Info                  CBS    Ending TrustedInstaller initialization.',\n",
       " '2016-09-28 04:30:31 , Info                  CBS    Starting the TrustedInstaller main loop.',\n",
       " '2016-09-28 04:30:31 , Info                  CBS    TrustedInstaller service starts successfully.',\n",
       " '2016-09-28 04:30:31 , Info                  CBS    SQM: Initializing online with Windows opt-in: False',\n",
       " '2016-09-28 04:30:31 , Info                  CBS    SQM: Cleaning up report files older than 10 days.',\n",
       " '2016-09-28 04:30:31 , Info                  CBS    SQM: Requesting upload of all unsent reports.']"
      ]
     },
     "execution_count": 126,
     "metadata": {},
     "output_type": "execute_result"
    }
   ],
   "source": [
    "logs[:10]"
   ]
  },
  {
   "cell_type": "markdown",
   "metadata": {},
   "source": [
    "### Variable Detection"
   ]
  },
  {
   "cell_type": "code",
   "execution_count": 127,
   "metadata": {},
   "outputs": [
    {
     "name": "stdout",
     "output_type": "stream",
     "text": [
      "Loading Classes\n",
      "\t Loaded {GUID}\n",
      "\t Loaded {DATE}\n",
      "\t Loaded {TIME}\n",
      "\t Loaded {DATETIME}\n",
      "\t Loaded {NUMBER}\n",
      "\t Loaded {DECIMAL}\n",
      "\t Loaded {INTEGER}\n",
      "\t Loaded {IPV4}\n",
      "\t Loaded {IPV6}\n",
      "\t Loaded {IP}\n",
      "\t Loaded {FILENAME}\n",
      "\t Loaded {PYTHON_FILENAME}\n",
      "Loading Patterns\n",
      "\t Loading {^[{(]?[0-9A-F]{8}[-]?([0-9A-F]{4}[-]?){3}[0-9A-F]{12}[)}]?$} {Class: GUID}\n",
      "\t Loading {\\d{4}[\\-\\s]{1}\\d{2}[\\-\\s]{1}\\d{2}} {Class: DATE}\n",
      "\t Loading {\\d{2}[\\-\\s]{1}\\d{2}(?:[\\-\\s]{1}\\d{2})*} {Class: DATE}\n",
      "\t Loading {\\d{2}[\\:]\\d{2}(?:\\:[\\d]{2})*(?:\\.[\\d]{3,6})*} {Class: TIME}\n",
      "\t Loading {([-]*[\\d]+)} {Class: INTEGER}\n",
      "\t Loading {[^A-Za-z0-9\\-\\.]([\\d]+)(?:[^A-Za-z0-9\\-\\.]|$)} {Class: INTEGER}\n",
      "\t Loading {[-]*[\\d]*[\\.][\\d]+} {Class: DECIMAL}\n",
      "\t Loading {^\\d{1,3}\\.\\d{1,3}\\.\\d{1,3}\\.\\d{1,3}$} {Class: IPV4}\n",
      "\t Loading {([a-zA-Z0-9\\\\\\.]*\\.py)} {Class: PYTHON_FILENAME}\n"
     ]
    }
   ],
   "source": [
    "var = Variables(\"../../Core/schema.variables.json\", verbose=True)"
   ]
  },
  {
   "cell_type": "code",
   "execution_count": 128,
   "metadata": {
    "scrolled": false
   },
   "outputs": [],
   "source": [
    "logs_t = var.TransformAll(logs)"
   ]
  },
  {
   "cell_type": "code",
   "execution_count": 129,
   "metadata": {
    "scrolled": false
   },
   "outputs": [
    {
     "data": {
      "text/plain": [
       "['@DATE @TIME , Info                  CBS    Loaded Servicing Stack v6.1.7601.23505 with Core: C:\\\\Windows\\\\winsxs\\\\amd64_microsoft-windows-servicingstack_31bf3856ad364e35_6.1.7601.23505_none_681aa442f6fed7f0\\\\cbscore.dll',\n",
       " '@DATE @TIME , Info                  CSI    00000001@2016/9/@TIME WcpInitialize ( wcp.dll version @IPV4 ) called ( stack @0x7fed806eb5d @0x7fef9fb9b6d @0x7fef9f8358f @0xff83e97c @0xff83d799 @0xff83db2f )',\n",
       " '@DATE @TIME , Info                  CSI    00000002@2016/9/@TIME WcpInitialize ( wcp.dll version @IPV4 ) called ( stack @0x7fed806eb5d @0x7fefa006ade @0x7fef9fd2984 @0x7fef9f83665 @0xff83e97c @0xff83d799 )',\n",
       " '@DATE @TIME , Info                  CSI    00000003@2016/9/@TIME WcpInitialize ( wcp.dll version @IPV4 ) called ( stack @0x7fed806eb5d @0x7fefa1c8728 @0x7fefa1c8856 @0xff83e474 @0xff83d7de @0xff83db2f )',\n",
       " '@DATE @TIME , Info                  CBS    Ending TrustedInstaller initialization.',\n",
       " '@DATE @TIME , Info                  CBS    Starting the TrustedInstaller main loop.',\n",
       " '@DATE @TIME , Info                  CBS    TrustedInstaller service starts successfully.',\n",
       " '@DATE @TIME , Info                  CBS    SQM: Initializing online with Windows opt-in: False',\n",
       " '@DATE @TIME , Info                  CBS    SQM: Cleaning up report files older than @INTEGER days.',\n",
       " '@DATE @TIME , Info                  CBS    SQM: Requesting upload of all unsent reports.']"
      ]
     },
     "execution_count": 129,
     "metadata": {},
     "output_type": "execute_result"
    }
   ],
   "source": [
    "logs_t[:10]"
   ]
  },
  {
   "cell_type": "markdown",
   "metadata": {},
   "source": [
    "## Fast Clustering"
   ]
  },
  {
   "cell_type": "code",
   "execution_count": 130,
   "metadata": {},
   "outputs": [
    {
     "name": "stdout",
     "output_type": "stream",
     "text": [
      "No of clusters generated: 28\n",
      "[Count: 641], Pattern: @DATE @TIME , Info                  *    * * * * * *\n",
      "[Count: 558], Pattern: @DATE @TIME , Info                  CBS    Read out cached package applicability for package: * , ApplicableState: @INTEGER , CurrentState:@INTEGER\n",
      "[Count: 13], Pattern: @DATE @TIME , Info                  CBS    Failed to * * * [ HRESULT = * - * ]\n",
      "[Count: 8], Pattern: @DATE @TIME , Info                  CBS    Unloading offline registry hive: { bf1a281b-ad7b-4476-ac95-f47682990ce7 *\n",
      "[Count: 8], Pattern: @DATE @TIME , Info                  CBS    Loading offline registry hive: * , into registry key '{ bf1a281b-ad7b-4476-ac95-f47682990ce7 * from path *\n",
      "[Count: 7], Pattern: @DATE @TIME , Info                  CBS    Expecting attribute name [ HRESULT = 0x800f080d - CBS_E_MANIFEST_INVALID_ITEM ]\n",
      "[Count: 6], Pattern: @DATE @TIME , Info                  CSI    * WcpInitialize ( wcp.dll version @IPV4 ) called ( stack * * * * * * )\n",
      "[Count: 4], Pattern: @DATE @TIME , Info                  CBS    SQM: * * * * * *\n",
      "[Count: 4], Pattern: @DATE @TIME , Info                  CSI    * * NT transaction ( seq @INTEGER ) * * * * * null )\"\n",
      "[Count: 3], Pattern: @DATE @TIME , Info                  CSI    * CSI Store @INTEGER ( * ) initialized\n",
      "[Count: 2], Pattern: @DATE @TIME , Info                  CBS    No startup processing required , TrustedInstaller service was not set as autostart , or else a reboot is still pending.\n",
      "[Count: 2], Pattern: @DATE @TIME , Info                  CBS    SQM: Cleaning up report files older than @INTEGER days.\n",
      "[Count: 2], Pattern: @DATE @TIME , Info                  CBS    SQM: Failed to start upload with file pattern: C:\\Windows\\servicing\\sqm\\*_std.sqm , flags: 0x2 [ HRESULT = 0x80004005 - E_FAIL ]\n",
      "[Count: 2], Pattern: @DATE @TIME , Info                  CBS    SQM: Failed to start standard sample upload. [ HRESULT = 0x80004005 - E_FAIL ]\n",
      "[Count: 2], Pattern: @DATE @TIME , Info                  CBS    SQM: Queued @INTEGER file( s ) for upload with pattern: C:\\Windows\\servicing\\sqm\\*_all.sqm , flags: 0x6\n",
      "[Count: 2], Pattern: @DATE @TIME , Info                  CBS    SQM: Warning: Failed to upload all unsent reports. [ HRESULT = 0x80004005 - E_FAIL ]\n",
      "[Count: 2], Pattern: @DATE @TIME , Info                  CBS    NonStart: Success , startup processing not required as expected.\n",
      "[Count: 2], Pattern: @DATE @TIME , Info                  CBS    NonStart: Checking to ensure startup processing was not required.\n",
      "[Count: 2], Pattern: @DATE @TIME , Info                  CSI    @INTEGER IAdvancedInstallerAwareStore_ResolvePendingTransactions ( call @INTEGER ) ( flags = @INTEGER , progress = NULL , phase = @INTEGER , pdwDisposition = *\n",
      "[Count: 2], Pattern: @DATE @TIME , Info                  CBS    Failed to create backup log cab. [ HRESULT = 0x80070001 - ERROR_INVALID_FUNCTION ]\n",
      "[Count: 2], Pattern: @DATE @TIME , Info                  CSI    * Created NT transaction ( seq @INTEGER ) result 0x00000000 , handle *\n",
      "[Count: 2], Pattern: @DATE @TIME , Info                  CBS    Loaded Servicing Stack v6.1.7601.23505 with Core: C:\\Windows\\winsxs\\amd64_microsoft-windows-servicingstack_31bf3856ad364e35_6.1.7601.23505_none_681aa442f6fed7f0\\cbscore.dll\n"
     ]
    }
   ],
   "source": [
    "## Varaibled\n",
    "THRESHOLD = 0.2\n",
    "\n",
    "# Generate tokens\n",
    "tokenizer = Tokenizer()\n",
    "tokens = tokenizer.transform(logs_t)\n",
    "\n",
    "# Generate level 1 Clusters\n",
    "fc = FastClustering(threshold=THRESHOLD)\n",
    "\n",
    "df = pd.DataFrame(logs_t, columns=['title_t'])\n",
    "df['label'] = fc.transform(tokens)\n",
    "print (\"No of clusters generated: %d\" % fc.getLabelCount())\n",
    "\n",
    "# Generate the patterns\n",
    "generator = Generator()\n",
    "i = -1\n",
    "\n",
    "for label, count in zip(df['label'].value_counts().index, df['label'].value_counts().values):\n",
    "    i += 1\n",
    "    if count <= 1:\n",
    "        continue\n",
    "\n",
    "    print (\"[Count: %d], Pattern: %s\" % (count, generator.generate(df[df['label'] == label].title_t.values)))"
   ]
  },
  {
   "cell_type": "markdown",
   "metadata": {},
   "source": [
    "## Linux Dataset"
   ]
  },
  {
   "cell_type": "code",
   "execution_count": 131,
   "metadata": {},
   "outputs": [
    {
     "name": "stdout",
     "output_type": "stream",
     "text": [
      "No of titles before dedup: 2000\n",
      "No of titles after dedup: 2000\n"
     ]
    }
   ],
   "source": [
    "logs = loadDataset(\"../datasets/Linux/Linux_2k.log\")\n",
    "\n",
    "print (\"No of titles before dedup: %d\" % len(logs))\n",
    "dedup = Deduplication()\n",
    "logs = dedup.transform(logs)\n",
    "print (\"No of titles after dedup: %d\" % len(logs))\n",
    "\n",
    "# TODO: use regular expressions\n",
    "for i, t in enumerate(logs):\n",
    "    t = t.replace(',', ' ,')\n",
    "    t = t.replace('[', '[ ')\n",
    "    t = t.replace(']', ' ]')\n",
    "    t = t.replace('{', '{ ')\n",
    "    t = t.replace('}', ' }')\n",
    "    t = t.replace('(', '( ')\n",
    "    t = t.replace(')', ' )')\n",
    "    t = t.replace('<', '< ')\n",
    "    t = t.replace('>', '> ')\n",
    "    t = t.replace('=', ' = ')\n",
    "\n",
    "    \n",
    "    logs[i] = t\n",
    "    \n",
    "logs_t = var.TransformAll(logs)"
   ]
  },
  {
   "cell_type": "code",
   "execution_count": 132,
   "metadata": {},
   "outputs": [
    {
     "data": {
      "text/plain": [
       "['Jun 14 15:16:01 combo sshd( pam_unix )[ 19939 ]: authentication failure; logname =  uid = 0 euid = 0 tty = NODEVssh ruser =  rhost = 218.188.2.4 ',\n",
       " 'Jun 14 15:16:02 combo sshd( pam_unix )[ 19937 ]: check pass; user unknown',\n",
       " 'Jun 14 15:16:02 combo sshd( pam_unix )[ 19937 ]: authentication failure; logname =  uid = 0 euid = 0 tty = NODEVssh ruser =  rhost = 218.188.2.4 ',\n",
       " 'Jun 15 02:04:59 combo sshd( pam_unix )[ 20882 ]: authentication failure; logname =  uid = 0 euid = 0 tty = NODEVssh ruser =  rhost = 220-135-151-1.hinet-ip.hinet.net  user = root',\n",
       " 'Jun 15 02:04:59 combo sshd( pam_unix )[ 20884 ]: authentication failure; logname =  uid = 0 euid = 0 tty = NODEVssh ruser =  rhost = 220-135-151-1.hinet-ip.hinet.net  user = root',\n",
       " 'Jun 15 02:04:59 combo sshd( pam_unix )[ 20883 ]: authentication failure; logname =  uid = 0 euid = 0 tty = NODEVssh ruser =  rhost = 220-135-151-1.hinet-ip.hinet.net  user = root',\n",
       " 'Jun 15 02:04:59 combo sshd( pam_unix )[ 20885 ]: authentication failure; logname =  uid = 0 euid = 0 tty = NODEVssh ruser =  rhost = 220-135-151-1.hinet-ip.hinet.net  user = root',\n",
       " 'Jun 15 02:04:59 combo sshd( pam_unix )[ 20886 ]: authentication failure; logname =  uid = 0 euid = 0 tty = NODEVssh ruser =  rhost = 220-135-151-1.hinet-ip.hinet.net  user = root',\n",
       " 'Jun 15 02:04:59 combo sshd( pam_unix )[ 20892 ]: authentication failure; logname =  uid = 0 euid = 0 tty = NODEVssh ruser =  rhost = 220-135-151-1.hinet-ip.hinet.net  user = root',\n",
       " 'Jun 15 02:04:59 combo sshd( pam_unix )[ 20893 ]: authentication failure; logname =  uid = 0 euid = 0 tty = NODEVssh ruser =  rhost = 220-135-151-1.hinet-ip.hinet.net  user = root']"
      ]
     },
     "execution_count": 132,
     "metadata": {},
     "output_type": "execute_result"
    }
   ],
   "source": [
    "logs[:10]"
   ]
  },
  {
   "cell_type": "code",
   "execution_count": 133,
   "metadata": {},
   "outputs": [
    {
     "data": {
      "text/plain": [
       "['Jun @INTEGER @TIME combo sshd( pam_unix )[ @INTEGER ]: authentication failure; logname =  uid = @INTEGER euid = @INTEGER tty = NODEVssh ruser =  rhost = @IPV4 ',\n",
       " 'Jun @INTEGER @TIME combo sshd( pam_unix )[ @INTEGER ]: check pass; user unknown',\n",
       " 'Jun @INTEGER @TIME combo sshd( pam_unix )[ @INTEGER ]: authentication failure; logname =  uid = @INTEGER euid = @INTEGER tty = NODEVssh ruser =  rhost = @IPV4 ',\n",
       " 'Jun @INTEGER @TIME combo sshd( pam_unix )[ @INTEGER ]: authentication failure; logname =  uid = @INTEGER euid = @INTEGER tty = NODEVssh ruser =  rhost = 2@DATE5-151-1.hinet-ip.hinet.net  user = root',\n",
       " 'Jun @INTEGER @TIME combo sshd( pam_unix )[ @INTEGER ]: authentication failure; logname =  uid = @INTEGER euid = @INTEGER tty = NODEVssh ruser =  rhost = 2@DATE5-151-1.hinet-ip.hinet.net  user = root',\n",
       " 'Jun @INTEGER @TIME combo sshd( pam_unix )[ @INTEGER ]: authentication failure; logname =  uid = @INTEGER euid = @INTEGER tty = NODEVssh ruser =  rhost = 2@DATE5-151-1.hinet-ip.hinet.net  user = root',\n",
       " 'Jun @INTEGER @TIME combo sshd( pam_unix )[ @INTEGER ]: authentication failure; logname =  uid = @INTEGER euid = @INTEGER tty = NODEVssh ruser =  rhost = 2@DATE5-151-1.hinet-ip.hinet.net  user = root',\n",
       " 'Jun @INTEGER @TIME combo sshd( pam_unix )[ @INTEGER ]: authentication failure; logname =  uid = @INTEGER euid = @INTEGER tty = NODEVssh ruser =  rhost = 2@DATE5-151-1.hinet-ip.hinet.net  user = root',\n",
       " 'Jun @INTEGER @TIME combo sshd( pam_unix )[ @INTEGER ]: authentication failure; logname =  uid = @INTEGER euid = @INTEGER tty = NODEVssh ruser =  rhost = 2@DATE5-151-1.hinet-ip.hinet.net  user = root',\n",
       " 'Jun @INTEGER @TIME combo sshd( pam_unix )[ @INTEGER ]: authentication failure; logname =  uid = @INTEGER euid = @INTEGER tty = NODEVssh ruser =  rhost = 2@DATE5-151-1.hinet-ip.hinet.net  user = root']"
      ]
     },
     "execution_count": 133,
     "metadata": {},
     "output_type": "execute_result"
    }
   ],
   "source": [
    "logs_t[:10]"
   ]
  },
  {
   "cell_type": "code",
   "execution_count": 134,
   "metadata": {},
   "outputs": [
    {
     "name": "stdout",
     "output_type": "stream",
     "text": [
      "No of clusters generated: 44\n",
      "[Count: 653], Pattern: * @INTEGER @TIME combo ftpd[ @INTEGER ]: connection from @IPV4 ( * ) at * * @INTEGER @TIME @INTEGER \n",
      "[Count: 416], Pattern: * @INTEGER @TIME combo * pam_unix )[ @INTEGER ]: authentication failure; logname =  uid = @INTEGER euid = @INTEGER tty = * ruser =  rhost = *  * * *\n",
      "[Count: 256], Pattern: Jul  @INTEGER @TIME combo ftpd[ @INTEGER ]: connection from @IPV4 ( * ) at * Jul  @INTEGER @TIME @INTEGER \n",
      "[Count: 150], Pattern: * @INTEGER @TIME combo * pam_unix )[ @INTEGER ]: session * for user * by ( uid = @INTEGER )\n",
      "[Count: 112], Pattern: * @INTEGER @TIME combo * pam_unix )[ @INTEGER ]: * * * * *\n",
      "[Count: 97], Pattern: Jul  @INTEGER @TIME combo * pam_unix )[ @INTEGER ]: * * * * * by * uid = @INTEGER )\n",
      "[Count: 74], Pattern: Jul  @INTEGER @TIME combo sshd( pam_unix )[ @INTEGER ]: authentication failure; logname =  uid = @INTEGER euid = @INTEGER tty = NODEVssh ruser =  rhost = *  user = *\n",
      "[Count: 34], Pattern: * @INTEGER @TIME combo logrotate: ALERT exited abnormally with [ @INTEGER ]\n",
      "[Count: 32], Pattern: Jul @INTEGER @TIME combo kernel: * * * * * * *\n",
      "[Count: 25], Pattern: * @INTEGER @TIME combo * @INTEGER ]: * * * \n",
      "[Count: 23], Pattern: Jun @INTEGER @TIME combo klogind[ @INTEGER ]: Authentication failed from @IPV4 ( @IPV4 ): * * * * * code \n",
      "[Count: 20], Pattern: * @INTEGER @TIME combo * * * succeeded\n",
      "[Count: 18], Pattern: Jul @INTEGER @TIME combo * @INTEGER ]: * * * * * SOA\n",
      "[Count: 16], Pattern: Jul @INTEGER @TIME combo * * * * *\n",
      "[Count: 10], Pattern: Jul @INTEGER @TIME combo kernel: * * * * * * * * *\n",
      "[Count: 10], Pattern: Jul  @INTEGER @TIME combo * @INTEGER ]: * * * * @INTEGER ) ]: \n",
      "[Count: 9], Pattern: Jul  @INTEGER @TIME combo logrotate: ALERT exited abnormally with [ @INTEGER ]\n",
      "[Count: 6], Pattern: Jul @INTEGER @TIME combo ftpd[ @INTEGER ]: * * * * * * * * * )\n",
      "[Count: 5], Pattern: Jul  @INTEGER @TIME combo * * * @INTEGER ]: * * * *\n",
      "[Count: 4], Pattern: Jul @INTEGER @TIME combo kernel: * hash table entries: @INTEGER ( * * * * * *\n",
      "[Count: 3], Pattern: Jul  @INTEGER @TIME combo * * * succeeded\n",
      "[Count: 3], Pattern: Jul @INTEGER @TIME combo kernel: * * * * ( * ) * *\n",
      "[Count: 2], Pattern: Jul @INTEGER @TIME combo * * * *  * \n",
      "[Count: 2], Pattern: Jul @INTEGER @TIME combo xinetd[ @INTEGER ]: warning: can't get client address: Connection reset by peer\n",
      "[Count: 2], Pattern: Jul @INTEGER @TIME combo * * * * *  succeeded *\n"
     ]
    }
   ],
   "source": [
    "## Varaibled\n",
    "THRESHOLD = 0.6\n",
    "\n",
    "# Generate tokens\n",
    "tokenizer = Tokenizer()\n",
    "tokens = tokenizer.transform(logs_t)\n",
    "\n",
    "# Generate level 1 Clusters\n",
    "fc = FastClustering(threshold=THRESHOLD)\n",
    "\n",
    "df = pd.DataFrame(logs_t, columns=['title_t'])\n",
    "df['label'] = fc.transform(tokens)\n",
    "print (\"No of clusters generated: %d\" % fc.getLabelCount())\n",
    "\n",
    "# Generate the patterns\n",
    "generator = Generator()\n",
    "i = -1\n",
    "\n",
    "for label, count in zip(df['label'].value_counts().index, df['label'].value_counts().values):\n",
    "    i += 1\n",
    "    if count <= 1:\n",
    "        continue\n",
    "\n",
    "    print (\"[Count: %d], Pattern: %s\" % (count, generator.generate(df[df['label'] == label].title_t.values)))"
   ]
  },
  {
   "cell_type": "markdown",
   "metadata": {},
   "source": [
    "## Android Dataset"
   ]
  },
  {
   "cell_type": "code",
   "execution_count": 135,
   "metadata": {},
   "outputs": [
    {
     "name": "stdout",
     "output_type": "stream",
     "text": [
      "No of titles before dedup: 2000\n",
      "No of titles after dedup: 1988\n"
     ]
    }
   ],
   "source": [
    "logs = loadDataset(\"../datasets/Android/Android_2k.log\")\n",
    "\n",
    "print (\"No of titles before dedup: %d\" % len(logs))\n",
    "dedup = Deduplication()\n",
    "logs = dedup.transform(logs)\n",
    "print (\"No of titles after dedup: %d\" % len(logs))\n",
    "\n",
    "# TODO: use regular expressions\n",
    "for i, t in enumerate(logs):\n",
    "    t = t.replace(',', ' ,')\n",
    "    t = t.replace('[', '[ ')\n",
    "    t = t.replace(']', ' ]')\n",
    "    t = t.replace('{', '{ ')\n",
    "    t = t.replace('}', ' }')\n",
    "    t = t.replace('(', '( ')\n",
    "    t = t.replace(')', ' )')\n",
    "    t = t.replace('<', '< ')\n",
    "    t = t.replace('>', '> ')\n",
    "    t = t.replace('=', ' = ')\n",
    "\n",
    "    \n",
    "    logs[i] = t\n",
    "    \n",
    "logs_t = var.TransformAll(logs)"
   ]
  },
  {
   "cell_type": "code",
   "execution_count": 136,
   "metadata": {},
   "outputs": [
    {
     "data": {
      "text/plain": [
       "['03-17 16:13:38.811  1702  2395 D WindowManager: printFreezingDisplayLogsopening app wtoken  =  AppWindowToken{ 9f4ef63 token = Token{ a64f992 ActivityRecord{ de9231d u0 com.tencent.qt.qtl/.activity.info.NewsDetailXmlActivity t761 } } } , allDrawn =  false , startingDisplayed  =   false , startingMoved  =   false , isRelaunching  =   false',\n",
       " '03-17 16:13:38.819  1702  8671 D PowerManagerService: acquire lock = 233570404 , flags = 0x1 , tag = \"View Lock\" , name = com.android.systemui , ws = null , uid = 10037 , pid = 2227',\n",
       " '03-17 16:13:38.820  1702  8671 D PowerManagerService: ready = true ,policy = 3 ,wakefulness = 1 ,wksummary = 0x23 ,uasummary = 0x1 ,bootcompleted = true ,boostinprogress = false ,waitmodeenable = false ,mode = false ,manual = 38 ,auto = -1 ,adj = 0.0userId = 0',\n",
       " '03-17 16:13:38.839  1702  2113 V WindowManager: Skipping AppWindowToken{ df0798e token = Token{ 78af589 ActivityRecord{ 3b04890 u0 com.tencent.qt.qtl/com.tencent.video.player.activity.PlayerActivity t761 } } } -- going to hide',\n",
       " '03-17 16:13:38.859  2227  2227 D TextView: visible is system.time.showampm',\n",
       " '03-17 16:13:38.861  2227  2227 D TextView: mVisiblity.getValue is false',\n",
       " '03-17 16:13:38.869  2227  2227 D TextView: visible is system.charge.show',\n",
       " '03-17 16:13:38.871  2227  2227 D TextView: mVisiblity.getValue is false',\n",
       " '03-17 16:13:38.875  2227  2227 D TextView: visible is system.call.count gt 0',\n",
       " '03-17 16:13:38.877  2227  2227 D TextView: mVisiblity.getValue is false']"
      ]
     },
     "execution_count": 136,
     "metadata": {},
     "output_type": "execute_result"
    }
   ],
   "source": [
    "logs[:10]"
   ]
  },
  {
   "cell_type": "code",
   "execution_count": 137,
   "metadata": {},
   "outputs": [
    {
     "data": {
      "text/plain": [
       "['@DATE @TIME  @INTEGER  @INTEGER D WindowManager: printFreezingDisplayLogsopening app wtoken  =  AppWindowToken{ 9f4ef63 token = Token{ a64f992 ActivityRecord{ de9231d u0 com.tencent.qt.qtl/.activity.info.NewsDetailXmlActivity t761 } } } , allDrawn =  false , startingDisplayed  =   false , startingMoved  =   false , isRelaunching  =   false',\n",
       " '@DATE @TIME  @INTEGER  @INTEGER D PowerManagerService: acquire lock = @INTEGER , flags = 0x1 , tag = \"View Lock\" , name = com.android.systemui , ws = null , uid = @INTEGER , pid = @INTEGER',\n",
       " '@DATE @TIME  @INTEGER  @INTEGER D PowerManagerService: ready = true ,policy = @INTEGER ,wakefulness = @INTEGER ,wksummary = 0x23 ,uasummary = 0x1 ,bootcompleted = true ,boostinprogress = false ,waitmodeenable = false ,mode = false ,manual = @INTEGER ,auto = @INTEGER ,adj = 0.0userId = @INTEGER',\n",
       " '@DATE @TIME  @INTEGER  @INTEGER V WindowManager: Skipping AppWindowToken{ df0798e token = Token{ 78af589 ActivityRecord{ 3b04890 u0 com.tencent.qt.qtl/com.tencent.video.player.activity.PlayerActivity t761 } } } -- going to hide',\n",
       " '@DATE @TIME  @INTEGER  @INTEGER D TextView: visible is system.time.showampm',\n",
       " '@DATE @TIME  @INTEGER  @INTEGER D TextView: mVisiblity.getValue is false',\n",
       " '@DATE @TIME  @INTEGER  @INTEGER D TextView: visible is system.charge.show',\n",
       " '@DATE @TIME  @INTEGER  @INTEGER D TextView: mVisiblity.getValue is false',\n",
       " '@DATE @TIME  @INTEGER  @INTEGER D TextView: visible is system.call.count gt @INTEGER',\n",
       " '@DATE @TIME  @INTEGER  @INTEGER D TextView: mVisiblity.getValue is false']"
      ]
     },
     "execution_count": 137,
     "metadata": {},
     "output_type": "execute_result"
    }
   ],
   "source": [
    "logs_t[:10]"
   ]
  },
  {
   "cell_type": "code",
   "execution_count": 138,
   "metadata": {},
   "outputs": [
    {
     "name": "stdout",
     "output_type": "stream",
     "text": [
      "No of clusters generated: 54\n",
      "[Count: 693], Pattern: @DATE @TIME  @INTEGER  @INTEGER * * * * * * * * * * *\n",
      "[Count: 237], Pattern: @DATE @TIME  @INTEGER  @INTEGER I * * * * * * * * * * * * * * * *\n",
      "[Count: 200], Pattern: @DATE @TIME  @INTEGER  @INTEGER I PhoneStatusBar: setSystemUiVisibility vis = * mask = * oldVal = * newVal = * diff = * fullscreenStackVis = @INTEGER dockedStackVis = @INTEGER , fullscreenStackBounds = Rect( @INTEGER , @INTEGER - @INTEGER , @INTEGER ) , dockedStackBounds = Rect( @INTEGER , @INTEGER - @INTEGER , @INTEGER )\n",
      "[Count: 159], Pattern: @DATE @TIME  @INTEGER  @INTEGER D PowerManagerService: ready = true ,policy = @INTEGER ,wakefulness = @INTEGER ,wksummary = * ,uasummary = 0x1 ,bootcompleted = true ,boostinprogress = false ,waitmodeenable = false ,mode = false ,manual = @INTEGER ,auto = @INTEGER ,adj = 0.0userId = @INTEGER\n",
      "[Count: 72], Pattern: @DATE @TIME  @INTEGER  @INTEGER * * * * = * , * = * * * = * * * = * * * * *\n",
      "[Count: 71], Pattern: @DATE @TIME  @INTEGER  @INTEGER W ActivityManager: * * * * * * * * *\n",
      "[Count: 68], Pattern: @DATE @TIME  @INTEGER  @INTEGER I * * * * * * * , * * @DECIMAL\n",
      "[Count: 50], Pattern: @DATE @TIME  @INTEGER @INTEGER W ActivityManager: * * * * * * * * *\n",
      "[Count: 45], Pattern: @DATE @TIME  @INTEGER  @INTEGER D ActivityManager: Skipping , withExcluded: false , tr.intent:Intent {  * = * * = * * * * * * * * * * * * * * * *\n",
      "[Count: 40], Pattern: @DATE @TIME  @INTEGER @INTEGER D PowerManagerService: ready = true ,policy = @INTEGER ,wakefulness = @INTEGER ,wksummary = * ,uasummary = 0x1 ,bootcompleted = true ,boostinprogress = false ,waitmodeenable = false ,mode = false ,manual = @INTEGER ,auto = @INTEGER ,adj = 0.0userId = @INTEGER\n",
      "[Count: 39], Pattern: @DATE @TIME  @INTEGER @INTEGER * * * * * * * * *\n",
      "[Count: 33], Pattern: @DATE @TIME @INTEGER @INTEGER * * * * * * *\n",
      "[Count: 24], Pattern: @DATE @TIME  @INTEGER  @INTEGER D PowerManagerService: * * * * * * * * * * * * * * * * * * * * * * * * * * * * * *\n",
      "[Count: 19], Pattern: @DATE @TIME  @INTEGER * * * * * * * * * * * * * * * * * * * * * * * * * * * * * * * *\n",
      "[Count: 19], Pattern: @DATE @TIME  @INTEGER  @INTEGER I WindowManager: Destroying surface Surface( name = * ) called by com.android.server.wm.WindowStateAnimator.destroySurface:@INTEGER com.android.server.wm.WindowStateAnimator.destroySurfaceLocked:@INTEGER * * * * * * \n",
      "[Count: 18], Pattern: @DATE @TIME  @INTEGER @INTEGER D ActivityManager: Skipping , withExcluded: false , tr.intent:Intent {  * = * * = * * * * * * * * * * * * * * * *\n",
      "[Count: 18], Pattern: @DATE @TIME  @INTEGER  @INTEGER * * *  * * * * * * *\n",
      "[Count: 13], Pattern: @DATE @TIME  @INTEGER  @INTEGER I StackScrollAlgorithm: * , previousNotificationEnd:0.0 , * , location:@INTEGER , i:@INTEGER , getTopPadding:333.0 , getLocationOnScreen(  *\n",
      "[Count: 12], Pattern: @DATE @TIME  @INTEGER @INTEGER D * * * = @INTEGER * = * * = * policyFlags = 2b000002 down * canceled false\n",
      "[Count: 12], Pattern: @DATE @TIME  @INTEGER  @INTEGER D * * * * * * = @INTEGER * = *\n",
      "[Count: 11], Pattern: @DATE @TIME  @INTEGER  @INTEGER I NotificationManager: cancelNotificationWithTag pid @INTEGER ,uid  =  @INTEGER ,tag  =  null ,pkg  = com.tencent.mobileqq ,id  = @INTEGER\n",
      "[Count: 10], Pattern: @DATE @TIME  @INTEGER @INTEGER D * * * * * * * * @INTEGER\n",
      "[Count: 10], Pattern: @DATE @TIME  @INTEGER  @INTEGER * WindowManager: * * * * , * * @INTEGER * * * * *\n",
      "[Count: 10], Pattern: @DATE @TIME  @INTEGER  @INTEGER * * * * * * * * * *  *  *\n",
      "[Count: 9], Pattern: @DATE @TIME  @INTEGER * * * * * = @INTEGER , * = * , tag = * , name = * , ws = * * * * * * * * * = @INTEGER\n",
      "[Count: 9], Pattern: @DATE @TIME  @INTEGER @INTEGER I NotificationManager: cancelNotificationWithTag pid @INTEGER ,uid  =  @INTEGER ,tag  =  null ,pkg  = com.tencent.mobileqq ,id  = @INTEGER\n",
      "[Count: 8], Pattern: @DATE @TIME  @INTEGER @INTEGER * ActivityManager: * * * * * * * * *\n",
      "[Count: 8], Pattern: @DATE @TIME  @INTEGER  @INTEGER I WindowManager: The change in focus caused us to need to do a layout *\n",
      "[Count: 8], Pattern: @DATE @TIME  @INTEGER  @INTEGER * * * * * * * empty \n",
      "[Count: 6], Pattern: @DATE @TIME  @INTEGER  @INTEGER I NotificationManager: updateLightsLocked ,mInCall  = false ,mScreenOn  =  true ,ledNotification  =  =  *\n",
      "[Count: 6], Pattern: @DATE @TIME  @INTEGER  @INTEGER D PhoneStatusBar: disable: <  expand * alerts * back home recent clock navigationbar search quick_settings > \n",
      "[Count: 6], Pattern: @DATE @TIME  @INTEGER  @INTEGER D WindowManager: interceptKeyTq keycode = @INTEGER interactive = true keyguardActive = false policyFlags = 2b000002 down * canceled false\n",
      "[Count: 5], Pattern: @DATE @TIME  @INTEGER @INTEGER I WindowManager: Destroying surface Surface( name = * ) called by com.android.server.wm.WindowStateAnimator.destroySurface:@INTEGER com.android.server.wm.WindowStateAnimator.destroySurfaceLocked:@INTEGER * * * * * * \n",
      "[Count: 5], Pattern: @DATE @TIME  @INTEGER  @INTEGER I AlarmManager: sending alarm Alarm{ * type @INTEGER when @INTEGER PendingIntent{ * PendingIntentRecord{ * * broadcastIntent } } } ,repeatInterval  =  @INTEGER ,listenerTag  = *\n",
      "[Count: 4], Pattern: @DATE @TIME  @INTEGER @INTEGER I WindowManager: The change in focus caused us to need to do a layout *\n",
      "[Count: 4], Pattern: @DATE @TIME  @INTEGER  @INTEGER V WindowManager: Skipping AppWindowToken{ * token = Token{ * ActivityRecord{ * u0 * t761 } } } -- going to hide\n",
      "[Count: 4], Pattern: @DATE @TIME  @INTEGER  @INTEGER I PanelView: onInterceptTouchEvent MotionEvent {  action = * , actionButton = @INTEGER , id[ @INTEGER ] = @INTEGER , x[ @INTEGER ] = @DECIMAL , y[ @INTEGER ] = @DECIMAL , toolType[ @INTEGER ] = TOOL_TYPE_FINGER , buttonState = @INTEGER , metaState = @INTEGER , flags = 0x0 , edgeFlags = 0x0 , pointerCount = @INTEGER , historySize = @INTEGER , eventTime = @INTEGER , downTime = @INTEGER , deviceId = @INTEGER , source = 0x1002  } , mBlockTouches = false\n",
      "[Count: 3], Pattern: @DATE @TIME  @INTEGER @INTEGER I WindowManager: Taking screenshot from Surface with crop:[ Rect( @INTEGER , @INTEGER - @INTEGER , @INTEGER ) ] , width:[ @INTEGER ] , height:[ @INTEGER ] , minLayer:[ @INTEGER ] , maxLayer:[ @INTEGER ] , inRotation:[ false ] , rot:[ @INTEGER ]\n",
      "[Count: 3], Pattern: @DATE @TIME  @INTEGER @INTEGER * * * * * @INTEGER , * * @INTEGER * * * * * * * *\n",
      "[Count: 2], Pattern: @DATE @TIME  @INTEGER  @INTEGER I AlarmManager: remove( PendingIntent{ * PendingIntentRecord{ * * broadcastIntent } } ) changed bounds; rebatching\n",
      "[Count: 2], Pattern: @DATE @TIME  @INTEGER  @INTEGER I NotificationManager: enqueueNotificationInternal: pkg = * id = @INTEGER notification = Notification( pri = @INTEGER contentView = null vibrate = [ * ] sound = null tick defaults = 0x0 flags = * color = 0x00000000 * = * * * * *\n",
      "[Count: 2], Pattern: @DATE @TIME  @INTEGER  @INTEGER I ActivityManager: START u0 { act = android.intent.action.MAIN cat = [ android.intent.category.LAUNCHER ] flg = 0x10200000 cmp = * bnds = [ @INTEGER ,@INTEGER ][ @INTEGER ,@INTEGER ] } from uid @INTEGER on display @INTEGER\n"
     ]
    }
   ],
   "source": [
    "## Varaibled\n",
    "THRESHOLD = 0.6\n",
    "\n",
    "# Generate tokens\n",
    "tokenizer = Tokenizer()\n",
    "tokens = tokenizer.transform(logs_t)\n",
    "\n",
    "# Generate level 1 Clusters\n",
    "fc = FastClustering(threshold=THRESHOLD)\n",
    "\n",
    "df = pd.DataFrame(logs_t, columns=['title_t'])\n",
    "df['label'] = fc.transform(tokens)\n",
    "print (\"No of clusters generated: %d\" % fc.getLabelCount())\n",
    "\n",
    "# Generate the patterns\n",
    "generator = Generator()\n",
    "i = -1\n",
    "\n",
    "for label, count in zip(df['label'].value_counts().index, df['label'].value_counts().values):\n",
    "    i += 1\n",
    "    if count <= 1:\n",
    "        continue\n",
    "\n",
    "    print (\"[Count: %d], Pattern: %s\" % (count, generator.generate(df[df['label'] == label].title_t.values)))"
   ]
  },
  {
   "cell_type": "markdown",
   "metadata": {},
   "source": [
    "## OpenSSH Logs"
   ]
  },
  {
   "cell_type": "code",
   "execution_count": 141,
   "metadata": {},
   "outputs": [
    {
     "name": "stdout",
     "output_type": "stream",
     "text": [
      "No of titles before dedup: 2000\n",
      "No of titles after dedup: 2000\n"
     ]
    }
   ],
   "source": [
    "logs = loadDataset(\"../datasets/OpenSSH/SSH_2k.log\")\n",
    "\n",
    "print (\"No of titles before dedup: %d\" % len(logs))\n",
    "dedup = Deduplication()\n",
    "logs = dedup.transform(logs)\n",
    "print (\"No of titles after dedup: %d\" % len(logs))\n",
    "\n",
    "# TODO: use regular expressions\n",
    "for i, t in enumerate(logs):\n",
    "    t = t.replace(',', ' ,')\n",
    "    t = t.replace('[', '[ ')\n",
    "    t = t.replace(']', ' ]')\n",
    "    t = t.replace('{', '{ ')\n",
    "    t = t.replace('}', ' }')\n",
    "    t = t.replace('(', '( ')\n",
    "    t = t.replace(')', ' )')\n",
    "    t = t.replace('<', '< ')\n",
    "    t = t.replace('>', '> ')\n",
    "    t = t.replace('=', ' = ')\n",
    "\n",
    "    \n",
    "    logs[i] = t\n",
    "    \n",
    "logs_t = var.TransformAll(logs)"
   ]
  },
  {
   "cell_type": "code",
   "execution_count": 142,
   "metadata": {},
   "outputs": [
    {
     "data": {
      "text/plain": [
       "['Dec 10 06:55:46 LabSZ sshd[ 24200 ]: reverse mapping checking getaddrinfo for ns.marryaldkfaczcz.com [ 173.234.31.186 ] failed - POSSIBLE BREAK-IN ATTEMPT!',\n",
       " 'Dec 10 06:55:46 LabSZ sshd[ 24200 ]: Invalid user webmaster from 173.234.31.186',\n",
       " 'Dec 10 06:55:46 LabSZ sshd[ 24200 ]: input_userauth_request: invalid user webmaster [ preauth ]',\n",
       " 'Dec 10 06:55:46 LabSZ sshd[ 24200 ]: pam_unix( sshd:auth ): check pass; user unknown',\n",
       " 'Dec 10 06:55:46 LabSZ sshd[ 24200 ]: pam_unix( sshd:auth ): authentication failure; logname =  uid = 0 euid = 0 tty = ssh ruser =  rhost = 173.234.31.186 ',\n",
       " 'Dec 10 06:55:48 LabSZ sshd[ 24200 ]: Failed password for invalid user webmaster from 173.234.31.186 port 38926 ssh2',\n",
       " 'Dec 10 06:55:48 LabSZ sshd[ 24200 ]: Connection closed by 173.234.31.186 [ preauth ]',\n",
       " 'Dec 10 07:02:47 LabSZ sshd[ 24203 ]: Connection closed by 212.47.254.145 [ preauth ]',\n",
       " 'Dec 10 07:07:38 LabSZ sshd[ 24206 ]: Invalid user test9 from 52.80.34.196',\n",
       " 'Dec 10 07:07:38 LabSZ sshd[ 24206 ]: input_userauth_request: invalid user test9 [ preauth ]']"
      ]
     },
     "execution_count": 142,
     "metadata": {},
     "output_type": "execute_result"
    }
   ],
   "source": [
    "logs[:10]"
   ]
  },
  {
   "cell_type": "code",
   "execution_count": 143,
   "metadata": {},
   "outputs": [
    {
     "data": {
      "text/plain": [
       "['Dec @INTEGER @TIME LabSZ sshd[ @INTEGER ]: reverse mapping checking getaddrinfo for ns.marryaldkfaczcz.com [ @IPV4 ] failed - POSSIBLE BREAK-IN ATTEMPT!',\n",
       " 'Dec @INTEGER @TIME LabSZ sshd[ @INTEGER ]: Invalid user webmaster from @IPV4',\n",
       " 'Dec @INTEGER @TIME LabSZ sshd[ @INTEGER ]: input_userauth_request: invalid user webmaster [ preauth ]',\n",
       " 'Dec @INTEGER @TIME LabSZ sshd[ @INTEGER ]: pam_unix( sshd:auth ): check pass; user unknown',\n",
       " 'Dec @INTEGER @TIME LabSZ sshd[ @INTEGER ]: pam_unix( sshd:auth ): authentication failure; logname =  uid = @INTEGER euid = @INTEGER tty = ssh ruser =  rhost = @IPV4 ',\n",
       " 'Dec @INTEGER @TIME LabSZ sshd[ @INTEGER ]: Failed password for invalid user webmaster from @IPV4 port @INTEGER ssh2',\n",
       " 'Dec @INTEGER @TIME LabSZ sshd[ @INTEGER ]: Connection closed by @IPV4 [ preauth ]',\n",
       " 'Dec @INTEGER @TIME LabSZ sshd[ @INTEGER ]: Connection closed by @IPV4 [ preauth ]',\n",
       " 'Dec @INTEGER @TIME LabSZ sshd[ @INTEGER ]: Invalid user test9 from @IPV4',\n",
       " 'Dec @INTEGER @TIME LabSZ sshd[ @INTEGER ]: input_userauth_request: invalid user test9 [ preauth ]']"
      ]
     },
     "execution_count": 143,
     "metadata": {},
     "output_type": "execute_result"
    }
   ],
   "source": [
    "logs_t[:10]"
   ]
  },
  {
   "cell_type": "code",
   "execution_count": 144,
   "metadata": {},
   "outputs": [
    {
     "name": "stdout",
     "output_type": "stream",
     "text": [
      "No of clusters generated: 10\n",
      "[Count: 523], Pattern: Dec @INTEGER @TIME LabSZ sshd[ @INTEGER ]: * * for * * * * * * * * *\n",
      "[Count: 504], Pattern: Dec @INTEGER @TIME LabSZ sshd[ @INTEGER ]: * * * authentication * logname =  uid = @INTEGER euid = @INTEGER tty = ssh ruser =  rhost = *  * * *\n",
      "[Count: 448], Pattern: Dec @INTEGER @TIME LabSZ sshd[ @INTEGER ]: * * * * * * * * * * * *\n",
      "[Count: 384], Pattern: Dec @INTEGER @TIME LabSZ sshd[ @INTEGER ]: Received disconnect from * 11: * * * * * [ preauth ]\n",
      "[Count: 85], Pattern: Dec @INTEGER @TIME LabSZ sshd[ @INTEGER ]: reverse mapping checking getaddrinfo for * [ @IPV4 ] failed - POSSIBLE BREAK-IN ATTEMPT!\n",
      "[Count: 45], Pattern: Dec @INTEGER @TIME LabSZ sshd[ @INTEGER ]: error: Received disconnect from 103.99.0.122: 14: No more user authentication methods available. [ preauth ]\n",
      "[Count: 7], Pattern: Dec @INTEGER @TIME LabSZ sshd[ @INTEGER ]: PAM service( sshd ) ignoring max retries; @INTEGER >  @INTEGER\n",
      "[Count: 2], Pattern: Dec @INTEGER @TIME LabSZ sshd[ @INTEGER ]: pam_unix( sshd:session ): session * for user fztu by ( uid = @INTEGER )\n",
      "[Count: 2], Pattern: Dec @INTEGER @TIME LabSZ sshd[ @INTEGER ]: message repeated @INTEGER times: [  Failed password for root from @IPV4 port @INTEGER ssh2 ]\n"
     ]
    }
   ],
   "source": [
    "## Varaibled\n",
    "THRESHOLD = 0.6\n",
    "\n",
    "# Generate tokens\n",
    "tokenizer = Tokenizer()\n",
    "tokens = tokenizer.transform(logs_t)\n",
    "\n",
    "# Generate level 1 Clusters\n",
    "fc = FastClustering(threshold=THRESHOLD)\n",
    "\n",
    "df = pd.DataFrame(logs_t, columns=['title_t'])\n",
    "df['label'] = fc.transform(tokens)\n",
    "print (\"No of clusters generated: %d\" % fc.getLabelCount())\n",
    "\n",
    "# Generate the patterns\n",
    "generator = Generator()\n",
    "i = -1\n",
    "\n",
    "for label, count in zip(df['label'].value_counts().index, df['label'].value_counts().values):\n",
    "    i += 1\n",
    "    if count <= 1:\n",
    "        continue\n",
    "\n",
    "    print (\"[Count: %d], Pattern: %s\" % (count, generator.generate(df[df['label'] == label].title_t.values)))"
   ]
  },
  {
   "cell_type": "markdown",
   "metadata": {},
   "source": [
    "## Apache Logs"
   ]
  },
  {
   "cell_type": "code",
   "execution_count": 145,
   "metadata": {},
   "outputs": [
    {
     "name": "stdout",
     "output_type": "stream",
     "text": [
      "No of titles before dedup: 2000\n",
      "No of titles after dedup: 1461\n"
     ]
    }
   ],
   "source": [
    "logs = loadDataset(\"../datasets/Apache/Apache_2k.log\")\n",
    "\n",
    "print (\"No of titles before dedup: %d\" % len(logs))\n",
    "dedup = Deduplication()\n",
    "logs = dedup.transform(logs)\n",
    "print (\"No of titles after dedup: %d\" % len(logs))\n",
    "\n",
    "# TODO: use regular expressions\n",
    "for i, t in enumerate(logs):\n",
    "    t = t.replace(',', ' ,')\n",
    "    t = t.replace('[', '[ ')\n",
    "    t = t.replace(']', ' ]')\n",
    "    t = t.replace('{', '{ ')\n",
    "    t = t.replace('}', ' }')\n",
    "    t = t.replace('(', '( ')\n",
    "    t = t.replace(')', ' )')\n",
    "    t = t.replace('<', '< ')\n",
    "    t = t.replace('>', '> ')\n",
    "    t = t.replace('=', ' = ')\n",
    "\n",
    "    \n",
    "    logs[i] = t\n",
    "    \n",
    "logs_t = var.TransformAll(logs)"
   ]
  },
  {
   "cell_type": "code",
   "execution_count": 146,
   "metadata": {},
   "outputs": [
    {
     "data": {
      "text/plain": [
       "['[ Sun Dec 04 04:47:44 2005 ] [ notice ] workerEnv.init(  ) ok /etc/httpd/conf/workers2.properties',\n",
       " '[ Sun Dec 04 04:47:44 2005 ] [ error ] mod_jk child workerEnv in error state 6',\n",
       " '[ Sun Dec 04 04:51:08 2005 ] [ notice ] jk2_init(  ) Found child 6725 in scoreboard slot 10',\n",
       " '[ Sun Dec 04 04:51:09 2005 ] [ notice ] jk2_init(  ) Found child 6726 in scoreboard slot 8',\n",
       " '[ Sun Dec 04 04:51:09 2005 ] [ notice ] jk2_init(  ) Found child 6728 in scoreboard slot 6',\n",
       " '[ Sun Dec 04 04:51:14 2005 ] [ notice ] workerEnv.init(  ) ok /etc/httpd/conf/workers2.properties',\n",
       " '[ Sun Dec 04 04:51:18 2005 ] [ error ] mod_jk child workerEnv in error state 6',\n",
       " '[ Sun Dec 04 04:51:37 2005 ] [ notice ] jk2_init(  ) Found child 6736 in scoreboard slot 10',\n",
       " '[ Sun Dec 04 04:51:38 2005 ] [ notice ] jk2_init(  ) Found child 6733 in scoreboard slot 7',\n",
       " '[ Sun Dec 04 04:51:38 2005 ] [ notice ] jk2_init(  ) Found child 6734 in scoreboard slot 9']"
      ]
     },
     "execution_count": 146,
     "metadata": {},
     "output_type": "execute_result"
    }
   ],
   "source": [
    "logs[:10]"
   ]
  },
  {
   "cell_type": "code",
   "execution_count": 147,
   "metadata": {},
   "outputs": [
    {
     "data": {
      "text/plain": [
       "['[ Sun Dec @INTEGER @TIME @INTEGER ] [ notice ] workerEnv.init(  ) ok /etc/httpd/conf/workers2.properties',\n",
       " '[ Sun Dec @INTEGER @TIME @INTEGER ] [ error ] mod_jk child workerEnv in error state @INTEGER',\n",
       " '[ Sun Dec @INTEGER @TIME @INTEGER ] [ notice ] jk2_init(  ) Found child @INTEGER in scoreboard slot @INTEGER',\n",
       " '[ Sun Dec @INTEGER @TIME @INTEGER ] [ notice ] jk2_init(  ) Found child @INTEGER in scoreboard slot @INTEGER',\n",
       " '[ Sun Dec @INTEGER @TIME @INTEGER ] [ notice ] jk2_init(  ) Found child @INTEGER in scoreboard slot @INTEGER',\n",
       " '[ Sun Dec @INTEGER @TIME @INTEGER ] [ notice ] workerEnv.init(  ) ok /etc/httpd/conf/workers2.properties',\n",
       " '[ Sun Dec @INTEGER @TIME @INTEGER ] [ error ] mod_jk child workerEnv in error state @INTEGER',\n",
       " '[ Sun Dec @INTEGER @TIME @INTEGER ] [ notice ] jk2_init(  ) Found child @INTEGER in scoreboard slot @INTEGER',\n",
       " '[ Sun Dec @INTEGER @TIME @INTEGER ] [ notice ] jk2_init(  ) Found child @INTEGER in scoreboard slot @INTEGER',\n",
       " '[ Sun Dec @INTEGER @TIME @INTEGER ] [ notice ] jk2_init(  ) Found child @INTEGER in scoreboard slot @INTEGER']"
      ]
     },
     "execution_count": 147,
     "metadata": {},
     "output_type": "execute_result"
    }
   ],
   "source": [
    "logs_t[:10]"
   ]
  },
  {
   "cell_type": "code",
   "execution_count": 149,
   "metadata": {},
   "outputs": [
    {
     "name": "stdout",
     "output_type": "stream",
     "text": [
      "No of clusters generated: 7\n",
      "[Count: 836], Pattern: [ * Dec @INTEGER @TIME @INTEGER ] [ notice ] jk2_init(  ) Found child @INTEGER in scoreboard slot @INTEGER\n",
      "[Count: 332], Pattern: [ * Dec @INTEGER @TIME @INTEGER ] [ error ] mod_jk child * * * state @INTEGER\n",
      "[Count: 247], Pattern: [ * Dec @INTEGER @TIME @INTEGER ] [ notice ] workerEnv.init(  ) ok /etc/httpd/conf/workers2.properties\n",
      "[Count: 32], Pattern: [ * Dec @INTEGER @TIME @INTEGER ] [ error ] [ client @IPV4 ] Directory index forbidden by rule: /var/www/html/\n",
      "[Count: 12], Pattern: [ * Dec @INTEGER @TIME @INTEGER ] [ error ] jk2_init(  ) Can't find child @INTEGER in scoreboard\n",
      "[Count: 2], Pattern: [ Mon Dec @INTEGER @TIME @INTEGER ] [ error ] mod_jk child init @INTEGER @INTEGER\n"
     ]
    }
   ],
   "source": [
    "## Varaibled\n",
    "THRESHOLD = 0.3\n",
    "\n",
    "# Generate tokens\n",
    "tokenizer = Tokenizer()\n",
    "tokens = tokenizer.transform(logs_t)\n",
    "\n",
    "# Generate level 1 Clusters\n",
    "fc = FastClustering(threshold=THRESHOLD)\n",
    "\n",
    "df = pd.DataFrame(logs_t, columns=['title_t'])\n",
    "df['label'] = fc.transform(tokens)\n",
    "print (\"No of clusters generated: %d\" % fc.getLabelCount())\n",
    "\n",
    "# Generate the patterns\n",
    "generator = Generator()\n",
    "i = -1\n",
    "\n",
    "for label, count in zip(df['label'].value_counts().index, df['label'].value_counts().values):\n",
    "    i += 1\n",
    "    if count <= 1:\n",
    "        continue\n",
    "\n",
    "    print (\"[Count: %d], Pattern: %s\" % (count, generator.generate(df[df['label'] == label].title_t.values)))"
   ]
  },
  {
   "cell_type": "code",
   "execution_count": null,
   "metadata": {
    "collapsed": true
   },
   "outputs": [],
   "source": []
  }
 ],
 "metadata": {
  "kernelspec": {
   "display_name": "Python 3",
   "language": "python",
   "name": "python3"
  },
  "language_info": {
   "codemirror_mode": {
    "name": "ipython",
    "version": 3
   },
   "file_extension": ".py",
   "mimetype": "text/x-python",
   "name": "python",
   "nbconvert_exporter": "python",
   "pygments_lexer": "ipython3",
   "version": "3.5.2"
  }
 },
 "nbformat": 4,
 "nbformat_minor": 2
}
